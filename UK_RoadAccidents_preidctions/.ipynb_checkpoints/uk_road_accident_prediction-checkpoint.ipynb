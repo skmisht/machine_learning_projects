{
 "cells": [
  {
   "cell_type": "markdown",
   "metadata": {},
   "source": [
    "# Predictiing Accident Injury Severity with ML Algorithms\n",
    "sklearn: https://scikit-learn.org/stable/\n",
    "\n",
    "1. Goal\n",
    "    - Predicting accident injuries severity. \n",
    "    - predict the safest/most dangerous times to travel ( not finished yet).\n",
    "2. Dataset [https://www.kaggle.com/bluehorseshoe/uk-2016-road-safety-data?select=Veh.csv]\n",
    "    - Joining different data files\n",
    "3. Data Cleanning\n",
    "    1. renaming column's name\n",
    "    2. converting column's name into lower case for better readability\n",
    "4. Data Exploration & Preparation\n",
    "    1. Data Statistics\n",
    "    2. Messy Datasets\n",
    "        - checking the nulls and NaN\n",
    "        - dropping if neccessary (depending on data size as the main aim is not to lose the data info)\n",
    "        - dropping all negative labels such as -1 which means information or there is no reocrds for the accident\n",
    "    3. Remove Columns That Have A Low Variance\n",
    "    4. Identify and Delete Rows that Contain Duplicate Data\n",
    "    5. Dropping un-neccessary columns such accident_index, longitude, lattitude etc\n",
    "5. Data Visualisations\n",
    "    1. Pie chart - Accident severity from reported accidents\n",
    "    2. Pie chart - Accident reported in Speed Zone\n",
    "    3. Histogram - Accident distribution by age\n",
    "    4. Bar chart - Accidents by different Sex drivers\n",
    "    5. Heat map - Correlation matrix\n",
    "6. Evaluate Ml Algorithms\n",
    "    1. Training/Validation dataset.\n",
    "    2. Optimisation: Set-up the test harness to use 10-fold cross validation.\n",
    "    3. Ensemble models to predict Injury Severity from UK Road Accidents (2011-2016)\n",
    "        - Logistic Regression (LR)\n",
    "        - K-Nearest Neighbors (KNN).\n",
    "        - Decision Tree.\n",
    "        - Ensemble - Random Forest, Bagging Classification\n",
    "        - Multinomial Naive Bayes.\n",
    "        - Support Vector Machine\n",
    "        - Neural Network\n",
    "    4. Select the best model.\n",
    "        - Based on average of Score (Test Harness - K-fold cross-validation)\n",
    "7. Feature Selection/Extraction\n",
    "    - Build models after using Feature selection methods of\n",
    "        1. Chi-Squared \n",
    "        2. Mutual Information \n",
    "        3. RFE\n",
    "    - Make prediction\n",
    "    - Evaluate prediction\n",
    "8. Make Predictions\n",
    "9. Evaluate Predictions\n",
    "    1. Accuracy Score\n",
    "    2. Confusion matrix\n",
    "    3. Classification report"
   ]
  },
  {
   "cell_type": "markdown",
   "metadata": {},
   "source": [
    "# Importing UK Road Accident, Casaulities and Vehicles dataset (2011-2016)"
   ]
  },
  {
   "cell_type": "code",
   "execution_count": 14,
   "metadata": {},
   "outputs": [
    {
     "name": "stderr",
     "output_type": "stream",
     "text": [
      "C:\\ProgramData\\Anaconda3\\lib\\site-packages\\IPython\\core\\interactiveshell.py:3063: DtypeWarning: Columns (31) have mixed types.Specify dtype option on import or set low_memory=False.\n",
      "  interactivity=interactivity, compiler=compiler, result=result)\n"
     ]
    },
    {
     "name": "stdout",
     "output_type": "stream",
     "text": [
      "Casulity data: (181384, 4), Vehicles data: (252500, 7), Accident data: (136621, 32)\n",
      "\n",
      "Casulity data's columns:\n",
      "---------------------------------------------------------------------------\n",
      "Index(['Accident_Index', 'Sex_of_Casualty', 'Age_of_Casualty',\n",
      "       'Age_Band_of_Casualty'],\n",
      "      dtype='object')\n",
      "\n",
      "Vehicle data's columns:\n",
      "---------------------------------------------------------------------------\n",
      "Index(['Accident_Index', 'Vehicle_Type', 'Vehicle_Manoeuvre', 'Sex_of_Driver',\n",
      "       'Age_of_Driver', 'Age_Band_of_Driver', 'Age_of_Vehicle'],\n",
      "      dtype='object')\n",
      "\n",
      "Accident data's columns:\n",
      "---------------------------------------------------------------------------\n",
      "Index(['Accident_Index', 'Location_Easting_OSGR', 'Location_Northing_OSGR',\n",
      "       'Longitude', 'Latitude', 'Police_Force', 'Accident_Severity',\n",
      "       'Number_of_Vehicles', 'Number_of_Casualties', 'Date', 'Day_of_Week',\n",
      "       'Time', 'Local_Authority_(District)', 'Local_Authority_(Highway)',\n",
      "       '1st_Road_Class', '1st_Road_Number', 'Road_Type', 'Speed_limit',\n",
      "       'Junction_Detail', 'Junction_Control', '2nd_Road_Class',\n",
      "       '2nd_Road_Number', 'Pedestrian_Crossing-Human_Control',\n",
      "       'Pedestrian_Crossing-Physical_Facilities', 'Light_Conditions',\n",
      "       'Weather_Conditions', 'Road_Surface_Conditions',\n",
      "       'Special_Conditions_at_Site', 'Carriageway_Hazards',\n",
      "       'Urban_or_Rural_Area', 'Did_Police_Officer_Attend_Scene_of_Accident',\n",
      "       'LSOA_of_Accident_Location'],\n",
      "      dtype='object')\n"
     ]
    }
   ],
   "source": [
    "# required packages\n",
    "import pandas as pd\n",
    "import numpy as np\n",
    "import csv\n",
    "import os\n",
    "import matplotlib.pyplot as plt\n",
    "\n",
    "# column list that are useful in casulity file\n",
    "casulity_cols = ['Accident_Index', \n",
    "            'Sex_of_Casualty',\n",
    "            'Age_of_Casualty',\n",
    "            'Age_Band_of_Casualty'] \n",
    "# reading casulity file\n",
    "casulity_df = pd.read_csv('casualities.csv', usecols = casulity_cols, sep=',')\n",
    "\n",
    "# # columns list that are useful in vehicles file\n",
    "vehicles_cols = ['Accident_Index', 'Vehicle_Type', 'Vehicle_Manoeuvre', 'Sex_of_Driver', \n",
    "            'Age_of_Driver', 'Age_Band_of_Driver','Age_of_Vehicle'] \n",
    "# reading vehicle file\n",
    "vehicles_df = pd.read_csv('vehicals.csv', usecols=vehicles_cols, sep=',') \n",
    "\n",
    "# readign accident file\n",
    "acc_df = pd.read_csv('dftRoadSafety_Accidents_2016.csv', sep=',') \n",
    "\n",
    "\n",
    "\n",
    "# display shape and columns from each file\n",
    "print(f\"Casulity data: {casulity_df.shape}, Vehicles data: {vehicles_df.shape}, Accident data: {acc_df.shape}\")\n",
    "print() # blank line\n",
    "print(\"Casulity data's columns:\")\n",
    "print('---'*25)\n",
    "print(casulity_df.columns)\n",
    "\n",
    "print() # blank line\n",
    "print(\"Vehicle data's columns:\")\n",
    "print('---'*25)\n",
    "print(vehicles_df.columns)\n",
    "\n",
    "print() # blank line\n",
    "print(\"Accident data's columns:\")\n",
    "print('---'*25)\n",
    "print(acc_df.columns)"
   ]
  },
  {
   "cell_type": "markdown",
   "metadata": {},
   "source": [
    "# Joining data\n",
    "- final dataframe = casullity + vehicle + accident"
   ]
  },
  {
   "cell_type": "code",
   "execution_count": 15,
   "metadata": {},
   "outputs": [
    {
     "name": "stdout",
     "output_type": "stream",
     "text": [
      "(353993, 41)\n",
      "\n",
      "Index(['Accident_Index', 'Sex_of_Casualty', 'Age_of_Casualty',\n",
      "       'Age_Band_of_Casualty', 'Vehicle_Type', 'Vehicle_Manoeuvre',\n",
      "       'Sex_of_Driver', 'Age_of_Driver', 'Age_Band_of_Driver',\n",
      "       'Age_of_Vehicle', 'Location_Easting_OSGR', 'Location_Northing_OSGR',\n",
      "       'Longitude', 'Latitude', 'Police_Force', 'Accident_Severity',\n",
      "       'Number_of_Vehicles', 'Number_of_Casualties', 'Date', 'Day_of_Week',\n",
      "       'Time', 'Local_Authority_(District)', 'Local_Authority_(Highway)',\n",
      "       '1st_Road_Class', '1st_Road_Number', 'Road_Type', 'Speed_limit',\n",
      "       'Junction_Detail', 'Junction_Control', '2nd_Road_Class',\n",
      "       '2nd_Road_Number', 'Pedestrian_Crossing-Human_Control',\n",
      "       'Pedestrian_Crossing-Physical_Facilities', 'Light_Conditions',\n",
      "       'Weather_Conditions', 'Road_Surface_Conditions',\n",
      "       'Special_Conditions_at_Site', 'Carriageway_Hazards',\n",
      "       'Urban_or_Rural_Area', 'Did_Police_Officer_Attend_Scene_of_Accident',\n",
      "       'LSOA_of_Accident_Location'],\n",
      "      dtype='object')\n"
     ]
    }
   ],
   "source": [
    "# joining data\n",
    "df = casulity_df.merge(vehicles_df,on='Accident_Index').merge(acc_df,on='Accident_Index')\n",
    "print(df.shape)\n",
    "print()\n",
    "print(df.columns)"
   ]
  },
  {
   "cell_type": "markdown",
   "metadata": {},
   "source": [
    "# Data Cleaning \n",
    "- renaming column's name \n",
    "- converting column's name into lower case for better readability"
   ]
  },
  {
   "cell_type": "code",
   "execution_count": 16,
   "metadata": {},
   "outputs": [
    {
     "name": "stdout",
     "output_type": "stream",
     "text": [
      "Index(['accident_index', 'sex_of_casualty', 'age_of_casualty',\n",
      "       'age_band_of_casualty', 'vehicle_type', 'vehicle_manoeuvre',\n",
      "       'sex_of_driver', 'age_of_driver', 'age_band_of_driver',\n",
      "       'age_of_vehicle', 'location_easting_osgr', 'location_northing_osgr',\n",
      "       'longitude', 'latitude', 'police_force', 'accident_severity',\n",
      "       'number_of_vehicles', 'number_of_casualties', 'date', 'day_of_week',\n",
      "       'time', 'local_authority_district', 'local_authority_highway',\n",
      "       '1st_road_class', '1st_road_number', 'road_type', 'speed_limit',\n",
      "       'junction_detail', 'junction_control', '2nd_road_class',\n",
      "       '2nd_road_number', 'pedestrian_crossing_human_control',\n",
      "       'pedestrian_crossing_physical_facilities', 'light_conditions',\n",
      "       'weather_conditions', 'road_surface_conditions',\n",
      "       'special_conditions_at_site', 'carriageway_hazards',\n",
      "       'urban_or_rural_area', 'did_police_officer_attend_scene_of_accident',\n",
      "       'lsoa_of_accident_location'],\n",
      "      dtype='object')\n"
     ]
    }
   ],
   "source": [
    "# renaming column's name\n",
    "df.rename(columns={'Local_Authority_(District)' : 'Local_Authority_District',\n",
    "                   'Local_Authority_(Highway)': 'Local_Authority_Highway',\n",
    "                   'Pedestrian_Crossing-Human_Control': 'Pedestrian_Crossing_Human_Control',\n",
    "                   'Pedestrian_Crossing-Physical_Facilities': 'Pedestrian_Crossing_Physical_Facilities'},\n",
    "          inplace=True)\n",
    "\n",
    "# converting names into lower case\n",
    "df.columns = [col.lower() for col in df.columns]\n",
    "print(df.columns)"
   ]
  },
  {
   "cell_type": "markdown",
   "metadata": {},
   "source": [
    "# Data Exploration and preparation\n",
    "- Messy Datasets\n",
    "    - checking the nulls and NaN\n",
    "    - dropping if neccessary (depending on data size as the main aim is not to lose the data info)\n",
    "    - dropping all negative labels such as -1 which means information or there is no reocrds for the accident\n",
    "- Remove Columns That Have A Low Variance\n",
    "- Identify and Delete Rows that Contain Duplicate Data\n",
    "- Dropping un-neccessary columns such accident_index, longitude, lattitude etc"
   ]
  },
  {
   "cell_type": "markdown",
   "metadata": {},
   "source": [
    "# Messy data"
   ]
  },
  {
   "cell_type": "code",
   "execution_count": 17,
   "metadata": {},
   "outputs": [
    {
     "name": "stdout",
     "output_type": "stream",
     "text": [
      "Data's original shape: \n",
      "(353993, 41)\n",
      "---------------------------------------------------------------------------\n",
      "Data after dropping Nulls:\n",
      " accident_index                                 0.0\n",
      "sex_of_casualty                                0.0\n",
      "age_of_casualty                                0.0\n",
      "age_band_of_casualty                           0.0\n",
      "vehicle_type                                   0.0\n",
      "vehicle_manoeuvre                              0.0\n",
      "sex_of_driver                                  0.0\n",
      "age_of_driver                                  0.0\n",
      "age_band_of_driver                             0.0\n",
      "age_of_vehicle                                 0.0\n",
      "location_easting_osgr                          0.0\n",
      "location_northing_osgr                         0.0\n",
      "longitude                                      0.0\n",
      "latitude                                       0.0\n",
      "police_force                                   0.0\n",
      "accident_severity                              0.0\n",
      "number_of_vehicles                             0.0\n",
      "number_of_casualties                           0.0\n",
      "date                                           0.0\n",
      "day_of_week                                    0.0\n",
      "time                                           0.0\n",
      "local_authority_district                       0.0\n",
      "local_authority_highway                        0.0\n",
      "1st_road_class                                 0.0\n",
      "1st_road_number                                0.0\n",
      "road_type                                      0.0\n",
      "speed_limit                                    0.0\n",
      "junction_detail                                0.0\n",
      "junction_control                               0.0\n",
      "2nd_road_class                                 0.0\n",
      "2nd_road_number                                0.0\n",
      "pedestrian_crossing_human_control              0.0\n",
      "pedestrian_crossing_physical_facilities        0.0\n",
      "light_conditions                               0.0\n",
      "weather_conditions                             0.0\n",
      "road_surface_conditions                        0.0\n",
      "special_conditions_at_site                     0.0\n",
      "carriageway_hazards                            0.0\n",
      "urban_or_rural_area                            0.0\n",
      "did_police_officer_attend_scene_of_accident    0.0\n",
      "lsoa_of_accident_location                      0.0\n",
      "dtype: float64\n"
     ]
    }
   ],
   "source": [
    "# checking the missing and NaNs\n",
    "print(\"Data's original shape: \")\n",
    "print(df.shape)\n",
    "\n",
    "print(\"---\"*25) # blank line\n",
    "# dropping missing values\n",
    "df.dropna(inplace=True)\n",
    "print(\"Data after dropping Nulls:\\n\", df.isnull().sum() / df.shape[0] * 100)"
   ]
  },
  {
   "cell_type": "code",
   "execution_count": 18,
   "metadata": {},
   "outputs": [
    {
     "name": "stdout",
     "output_type": "stream",
     "text": [
      "(333648, 41)\n",
      "---------------------------------------------\n",
      "Final Data shape after removing -1s form columns:  (131136, 41)\n"
     ]
    }
   ],
   "source": [
    "# dropping -1 values from labels of some of columns \n",
    "# which means information or there is no reocrds for the accident\n",
    "print(df.shape)\n",
    "print(\"---\"*15)\n",
    "for columns in df.columns:\n",
    "    df = df[df[columns] != -1]\n",
    "    \n",
    "print(\"Final Data shape after removing -1s form columns: \", df.shape)"
   ]
  },
  {
   "cell_type": "markdown",
   "metadata": {},
   "source": [
    "# Identify and delete Rows that Contain Duplicate Data"
   ]
  },
  {
   "cell_type": "code",
   "execution_count": 19,
   "metadata": {},
   "outputs": [
    {
     "name": "stdout",
     "output_type": "stream",
     "text": [
      "Print the duplicates if there is any:  True\n",
      "\n",
      "Original data shape:  (131136, 41)\n",
      "\n",
      "After deleting the duplicate:  (129371, 41)\n"
     ]
    }
   ],
   "source": [
    "# calculate duplicates \n",
    "dups = df.duplicated()\n",
    "# report if there are any duplicates\n",
    "print(\"Print the duplicates if there is any: \", dups.any())\n",
    "# # list all the duplicate row\n",
    "# print(df[dups])\n",
    "\n",
    "# deleted the duplicates \n",
    "print()\n",
    "print(\"Original data shape: \", df.shape)\n",
    "print()\n",
    "df.drop_duplicates(inplace=True)\n",
    "print(\"After deleting the duplicate: \", df.shape)"
   ]
  },
  {
   "cell_type": "code",
   "execution_count": 20,
   "metadata": {},
   "outputs": [
    {
     "name": "stdout",
     "output_type": "stream",
     "text": [
      "Check if there is still any duplicate records in data:  0\n"
     ]
    }
   ],
   "source": [
    "# check again if the duplicate records still exists\n",
    "print(\"Check if there is still any duplicate records in data: \", (df.duplicated().sum()))"
   ]
  },
  {
   "cell_type": "markdown",
   "metadata": {},
   "source": [
    "# Dropping un-neccessary columns such accident_index, longitude, lattitude etc"
   ]
  },
  {
   "cell_type": "code",
   "execution_count": 21,
   "metadata": {},
   "outputs": [
    {
     "name": "stdout",
     "output_type": "stream",
     "text": [
      "(129371, 41)\n",
      "----------------------------------------\n",
      "(129371, 30)\n",
      "Index(['sex_of_casualty', 'age_of_casualty', 'age_band_of_casualty',\n",
      "       'vehicle_type', 'vehicle_manoeuvre', 'sex_of_driver', 'age_of_driver',\n",
      "       'age_band_of_driver', 'age_of_vehicle', 'police_force',\n",
      "       'accident_severity', 'number_of_vehicles', 'number_of_casualties',\n",
      "       '1st_road_class', '1st_road_number', 'road_type', 'speed_limit',\n",
      "       'junction_detail', 'junction_control', '2nd_road_class',\n",
      "       '2nd_road_number', 'pedestrian_crossing_human_control',\n",
      "       'pedestrian_crossing_physical_facilities', 'light_conditions',\n",
      "       'weather_conditions', 'road_surface_conditions',\n",
      "       'special_conditions_at_site', 'carriageway_hazards',\n",
      "       'urban_or_rural_area', 'did_police_officer_attend_scene_of_accident'],\n",
      "      dtype='object')\n"
     ]
    }
   ],
   "source": [
    "# dropping some the columns that are not useful for the models\n",
    "# Dropping columns that are not useful at this time and later we will do further inspection to see what variables we realy need \n",
    "print(df.shape)\n",
    "print('--'*20)\n",
    "df.drop(['accident_index',\n",
    "         'location_easting_osgr',\n",
    "         'location_northing_osgr',\n",
    "         'longitude',\n",
    "         'latitude',\n",
    "         'lsoa_of_accident_location',\n",
    "         'date', 'time', 'day_of_week', \n",
    "         'local_authority_district', 'local_authority_district',\n",
    "         'local_authority_highway'], \n",
    "        axis='columns',\n",
    "        inplace=True)\n",
    "print(df.shape)\n",
    "print(df.columns)"
   ]
  },
  {
   "cell_type": "markdown",
   "metadata": {},
   "source": [
    "# Data Visualisation\n",
    "1. Pie chart - Accident severity from reported accidents\n",
    "2. Pie chart - Accident reported in Speed Zone\n",
    "3. Histogram - Accident distribution by age\n",
    "4. Bar chart - Accidents by different Sex drivers\n",
    "5. Heat map - Correlation matrix"
   ]
  },
  {
   "cell_type": "code",
   "execution_count": 22,
   "metadata": {},
   "outputs": [
    {
     "data": {
      "text/plain": [
       "<Figure size 1080x504 with 0 Axes>"
      ]
     },
     "metadata": {},
     "output_type": "display_data"
    },
    {
     "data": {
      "image/png": "[encoded data removed]",
      "text/plain": [
       "<Figure size 432x288 with 1 Axes>"
      ]
     },
     "metadata": {},
     "output_type": "display_data"
    }
   ],
   "source": [
    "# Pie chart - Accident severity from reported accidents\n",
    "import matplotlib.pyplot as plt\n",
    "fig = plt.figure(figsize=(15, 7))\n",
    "# labels and explode for the plots \n",
    "labels = ['Fatal', 'Serious', 'Slight']\n",
    "explode = (0, 0, 0.1)\n",
    "# figure and axis for the plot\n",
    "fig, ax = plt.subplots()\n",
    "ax.pie(df['accident_severity'].unique(), \n",
    "       explode=explode, \n",
    "       labels=labels, \n",
    "       autopct='%1.1f%%', \n",
    "       shadow=True, \n",
    "       startangle=90)\n",
    "\n",
    "# axis - equals\n",
    "ax.axis('equal')\n",
    "plt.title(\"Accident Severity ratio (Fatal Vs Serious Vs Slight)\", \n",
    "          bbox={'facecolor':'0.8', 'pad':5})\n",
    "\n",
    "plt.show()"
   ]
  },
  {
   "cell_type": "code",
   "execution_count": 23,
   "metadata": {},
   "outputs": [
    {
     "data": {
      "text/plain": [
       "<Figure size 1080x504 with 0 Axes>"
      ]
     },
     "metadata": {},
     "output_type": "display_data"
    },
    {
     "data": {
      "image/png": "[encoded data removed]",
      "text/plain": [
       "<Figure size 432x288 with 1 Axes>"
      ]
     },
     "metadata": {},
     "output_type": "display_data"
    }
   ],
   "source": [
    "# Pie chart - Accident reported in Speed Zone\n",
    "import matplotlib.pyplot as plt\n",
    "fig = plt.figure(figsize=(15,7))\n",
    "# labels and explode for the plot\n",
    "labels = ['20', '30', '40' , '50', '60', '70']\n",
    "explode = (0, 0, 0, 0.1, 0, 0)\n",
    "# fig and axis \n",
    "fig, ax = plt.subplots()\n",
    "ax.pie(df['speed_limit'].unique(),\n",
    "       explode=explode,\n",
    "       labels=labels,\n",
    "       autopct='%1.1f%%',\n",
    "       shadow=True,\n",
    "       startangle=90)\n",
    "\n",
    "# axis - equal\n",
    "ax.axis('equal')\n",
    "plt.title('Accidents Reported in Speed Zone',\n",
    "          bbox={'facecolor':'0.8', 'pad': 5})\n",
    "plt.show()"
   ]
  },
  {
   "cell_type": "code",
   "execution_count": 24,
   "metadata": {},
   "outputs": [
    {
     "data": {
      "text/plain": [
       "(0.0, 27930.0)"
      ]
     },
     "execution_count": 24,
     "metadata": {},
     "output_type": "execute_result"
    },
    {
     "data": {
      "image/png": "[encoded data removed]",
      "text/plain": [
       "<Figure size 864x432 with 1 Axes>"
      ]
     },
     "metadata": {
      "needs_background": "light"
     },
     "output_type": "display_data"
    }
   ],
   "source": [
    "# Histogram - Accident distribution by age\n",
    "import matplotlib.pyplot as plt\n",
    "import numpy as np\n",
    "# define the age bands for label the graph\n",
    "age_band = ['0','0-5','6-10','11-15','16-20','21-25','26-35', '36-45', '46-55','56-65','66-75','75+']\n",
    "bins = 11\n",
    "plt.figure(figsize=(12,6))\n",
    "\n",
    "# plot historgram\n",
    "n, bins, patches = plt.hist(x = df['age_band_of_casualty'],\n",
    "                            bins = bins, color = '#0504aa', alpha = 00.75, rwidth = 0.99)\n",
    "\n",
    "# title\n",
    "plt.title(\"Accident distribution by different Age band\", fontsize = 30)\n",
    "plt.grid(axis='y', alpha=0.75)\n",
    "y_pos = np.arange(len(age_band))\n",
    "plt.xticks(y_pos , age_band)\n",
    "plt.ylabel('Accident frequency' , fontsize = 17)\n",
    "plt.xlabel('Age', fontsize=15)\n",
    "maxfreq = n.max()\n",
    "# Set a clean upper y-axis limit.\n",
    "plt.ylim(ymax=np.ceil(maxfreq / 10) * 10 if maxfreq % 10 else maxfreq + 10)"
   ]
  },
  {
   "cell_type": "code",
   "execution_count": 25,
   "metadata": {},
   "outputs": [
    {
     "data": {
      "image/png": "[encoded data removed]",
      "text/plain": [
       "<Figure size 432x288 with 1 Axes>"
      ]
     },
     "metadata": {
      "needs_background": "light"
     },
     "output_type": "display_data"
    }
   ],
   "source": [
    "# Bar - Accidents by different Sex drivers\n",
    "import seaborn as sns\n",
    "import matplotlib.pyplot as plt\n",
    "# define labels\n",
    "label = ['Male', 'Female', 'Unknown'] # need to add the labels\n",
    "# seaborn countplot\n",
    "chart = sns.countplot(x='sex_of_driver',\n",
    "                      data=df, \n",
    "                      palette='hls').set_title(\"Accidents by different Sex drivers\")\n",
    "# # adding label into countplot using matplotlib\n",
    "# chart.set(labels= label)\n",
    "# plt.show()"
   ]
  },
  {
   "cell_type": "code",
   "execution_count": 27,
   "metadata": {},
   "outputs": [
    {
     "data": {
      "text/plain": [
       "<matplotlib.axes._subplots.AxesSubplot at 0x18dbd839b48>"
      ]
     },
     "execution_count": 27,
     "metadata": {},
     "output_type": "execute_result"
    },
    {
     "data": {
      "image/png": "[encoded data removed]",
      "text/plain": [
       "<Figure size 1152x864 with 2 Axes>"
      ]
     },
     "metadata": {
      "needs_background": "light"
     },
     "output_type": "display_data"
    }
   ],
   "source": [
    "# Heat map - Correlation matrix\n",
    "fig, ax = plt.subplots(figsize=(16, 12))\n",
    "corr = df.corr()\n",
    "sns.heatmap(corr, mask = np.zeros_like(corr, dtype=np.bool), \n",
    "            cmap=sns.diverging_palette(240, 10, as_cmap=True),\n",
    "            square=True, ax=ax)"
   ]
  },
  {
   "cell_type": "markdown",
   "metadata": {},
   "source": [
    "# Complete dataset"
   ]
  },
  {
   "cell_type": "code",
   "execution_count": 16,
   "metadata": {},
   "outputs": [],
   "source": [
    "# Complete data into csv file for classification models\n",
    "new_file = df.to_csv('cleanned_uk_road_accident.csv', index=False)"
   ]
  },
  {
   "cell_type": "markdown",
   "metadata": {},
   "source": [
    "# Loading data (cleanned data)"
   ]
  },
  {
   "cell_type": "code",
   "execution_count": 28,
   "metadata": {},
   "outputs": [
    {
     "name": "stdout",
     "output_type": "stream",
     "text": [
      "Peek at data:\n",
      " [['2', '36', '7', '9', '18', '2', '36', '7', '1', '1', '1', '1', '3', '207', '6', '30', '9', '4', '6', '0', '0', '0', '4', '1', '1', '0', '0', '1', '1', '3'], ['1', '24', '5', '9', '18', '1', '24', '5', '5', '1', '1', '1', '3', '4020', '1', '30', '1', '4', '3', '4020', '0', '0', '4', '1', '1', '0', '0', '1', '1', '3'], ['2', '59', '9', '11', '18', '1', '55', '8', '7', '1', '1', '1', '3', '217', '6', '30', '3', '2', '3', '217', '0', '0', '1', '1', '1', '0', '0', '1', '1', '3'], ['2', '30', '6', '9', '18', '2', '30', '6', '10', '1', '2', '1', '3', '23', '6', '30', '3', '4', '6', '0', '0', '8', '1', '1', '1', '0', '0', '1', '1', '3'], ['2', '30', '6', '9', '18', '1', '27', '6', '5', '1', '2', '1', '3', '23', '6', '30', '3', '4', '6', '0', '0', '8', '1', '1', '1', '0', '0', '1', '1', '3'], ['2', '30', '6', '9', '18', '2', '30', '6', '15', '1', '2', '1', '3', '504', '6', '30', '3', '4', '6', '0', '0', '0', '1', '1', '1', '0', '0', '1', '1', '3'], ['1', '36', '7', '19', '3', '1', '29', '6', '3', '1', '3', '1', '3', '1', '6', '30', '9', '4', '6', '0', '0', '0', '1', '1', '1', '4', '0', '1', '1', '3'], ['1', '36', '7', '19', '3', '1', '31', '6', '4', '1', '3', '1', '3', '1', '6', '30', '9', '4', '6', '0', '0', '0', '1', '1', '1', '4', '0', '1', '1', '3'], ['1', '36', '7', '3', '14', '1', '36', '7', '1', '1', '3', '1', '3', '1', '6', '30', '9', '4', '6', '0', '0', '0', '1', '1', '1', '4', '0', '1', '1', '3'], ['1', '53', '8', '9', '4', '2', '43', '7', '2', '1', '1', '1', '6', '0', '2', '30', '3', '4', '6', '0', '0', '0', '1', '2', '1', '0', '0', '1', '1', '3']]\n",
      "\n",
      "Data after converting into float and removing leading characters:\n",
      " [[2.0, 36.0, 7.0, 9.0, 18.0, 2.0, 36.0, 7.0, 1.0, 1.0, 1.0, 1.0, 3.0, 207.0, 6.0, 30.0, 9.0, 4.0, 6.0, 0.0, 0.0, 0.0, 4.0, 1.0, 1.0, 0.0, 0.0, 1.0, 1.0, 3.0], [1.0, 24.0, 5.0, 9.0, 18.0, 1.0, 24.0, 5.0, 5.0, 1.0, 1.0, 1.0, 3.0, 4020.0, 1.0, 30.0, 1.0, 4.0, 3.0, 4020.0, 0.0, 0.0, 4.0, 1.0, 1.0, 0.0, 0.0, 1.0, 1.0, 3.0], [2.0, 59.0, 9.0, 11.0, 18.0, 1.0, 55.0, 8.0, 7.0, 1.0, 1.0, 1.0, 3.0, 217.0, 6.0, 30.0, 3.0, 2.0, 3.0, 217.0, 0.0, 0.0, 1.0, 1.0, 1.0, 0.0, 0.0, 1.0, 1.0, 3.0], [2.0, 30.0, 6.0, 9.0, 18.0, 2.0, 30.0, 6.0, 10.0, 1.0, 2.0, 1.0, 3.0, 23.0, 6.0, 30.0, 3.0, 4.0, 6.0, 0.0, 0.0, 8.0, 1.0, 1.0, 1.0, 0.0, 0.0, 1.0, 1.0, 3.0], [2.0, 30.0, 6.0, 9.0, 18.0, 1.0, 27.0, 6.0, 5.0, 1.0, 2.0, 1.0, 3.0, 23.0, 6.0, 30.0, 3.0, 4.0, 6.0, 0.0, 0.0, 8.0, 1.0, 1.0, 1.0, 0.0, 0.0, 1.0, 1.0, 3.0], [2.0, 30.0, 6.0, 9.0, 18.0, 2.0, 30.0, 6.0, 15.0, 1.0, 2.0, 1.0, 3.0, 504.0, 6.0, 30.0, 3.0, 4.0, 6.0, 0.0, 0.0, 0.0, 1.0, 1.0, 1.0, 0.0, 0.0, 1.0, 1.0, 3.0], [1.0, 36.0, 7.0, 19.0, 3.0, 1.0, 29.0, 6.0, 3.0, 1.0, 3.0, 1.0, 3.0, 1.0, 6.0, 30.0, 9.0, 4.0, 6.0, 0.0, 0.0, 0.0, 1.0, 1.0, 1.0, 4.0, 0.0, 1.0, 1.0, 3.0], [1.0, 36.0, 7.0, 19.0, 3.0, 1.0, 31.0, 6.0, 4.0, 1.0, 3.0, 1.0, 3.0, 1.0, 6.0, 30.0, 9.0, 4.0, 6.0, 0.0, 0.0, 0.0, 1.0, 1.0, 1.0, 4.0, 0.0, 1.0, 1.0, 3.0], [1.0, 36.0, 7.0, 3.0, 14.0, 1.0, 36.0, 7.0, 1.0, 1.0, 3.0, 1.0, 3.0, 1.0, 6.0, 30.0, 9.0, 4.0, 6.0, 0.0, 0.0, 0.0, 1.0, 1.0, 1.0, 4.0, 0.0, 1.0, 1.0, 3.0], [1.0, 53.0, 8.0, 9.0, 4.0, 2.0, 43.0, 7.0, 2.0, 1.0, 1.0, 1.0, 6.0, 0.0, 2.0, 30.0, 3.0, 4.0, 6.0, 0.0, 0.0, 0.0, 1.0, 2.0, 1.0, 0.0, 0.0, 1.0, 1.0, 3.0]]\n"
     ]
    }
   ],
   "source": [
    "# required module\n",
    "import os\n",
    "import csv\n",
    "import numpy as np\n",
    "import pandas as pd\n",
    "import matplotlib.pyplot as plt\n",
    "\n",
    "# load data function\n",
    "def load_data(filename):\n",
    "    # creating empty list\n",
    "    dataset = list()\n",
    "    # try to read file\n",
    "    try:\n",
    "        with open(filename, 'r') as infile:\n",
    "            # reader from csv\n",
    "            file_reader = csv.reader(infile)\n",
    "            # skipping header\n",
    "            header = next(file_reader, None)\n",
    "            # for each row\n",
    "            for row in file_reader:\n",
    "                if not row:\n",
    "                    continue\n",
    "                # append the data\n",
    "                dataset.append(row)\n",
    "                \n",
    "    except FileNotFoundError:\n",
    "        print(\"Invalid file path!\")\n",
    "        \n",
    "    return dataset\n",
    "\n",
    "# striping leading character \n",
    "def column_string_to_float(data, column):\n",
    "    # for each values in list\n",
    "    for row in data:\n",
    "        row[column] = float(row[column].strip())\n",
    "        \n",
    "\n",
    "\n",
    "# calling the function - load data\n",
    "data = load_data('cleanned_uk_road_accident.csv')\n",
    "print(\"Peek at data:\\n\", data[:10])\n",
    "\n",
    "print() # blank line\n",
    "\n",
    "# calling the function - column_string_to_float\n",
    "for i in range(len(data[0])):\n",
    "    column_string_to_float(data, i)\n",
    "# display the data\n",
    "print(\"Data after converting into float and removing leading characters:\\n\", data[:10])"
   ]
  },
  {
   "cell_type": "markdown",
   "metadata": {},
   "source": [
    "# Create Training & Validation sets\n",
    "1. Train and Validation (test) data\n",
    "2. Split between trian and valisdation set"
   ]
  },
  {
   "cell_type": "code",
   "execution_count": 29,
   "metadata": {},
   "outputs": [
    {
     "name": "stdout",
     "output_type": "stream",
     "text": [
      "Train data:\n",
      "[[2.0, 36.0, 7.0, 9.0, 18.0, 2.0, 36.0, 7.0, 1.0, 1.0, 1.0, 1.0, 3.0, 207.0, 6.0, 30.0, 9.0, 4.0, 6.0, 0.0, 0.0, 0.0, 4.0, 1.0, 1.0, 0.0, 0.0, 1.0, 1.0], [1.0, 24.0, 5.0, 9.0, 18.0, 1.0, 24.0, 5.0, 5.0, 1.0, 1.0, 1.0, 3.0, 4020.0, 1.0, 30.0, 1.0, 4.0, 3.0, 4020.0, 0.0, 0.0, 4.0, 1.0, 1.0, 0.0, 0.0, 1.0, 1.0], [2.0, 59.0, 9.0, 11.0, 18.0, 1.0, 55.0, 8.0, 7.0, 1.0, 1.0, 1.0, 3.0, 217.0, 6.0, 30.0, 3.0, 2.0, 3.0, 217.0, 0.0, 0.0, 1.0, 1.0, 1.0, 0.0, 0.0, 1.0, 1.0], [2.0, 30.0, 6.0, 9.0, 18.0, 2.0, 30.0, 6.0, 10.0, 1.0, 2.0, 1.0, 3.0, 23.0, 6.0, 30.0, 3.0, 4.0, 6.0, 0.0, 0.0, 8.0, 1.0, 1.0, 1.0, 0.0, 0.0, 1.0, 1.0], [2.0, 30.0, 6.0, 9.0, 18.0, 1.0, 27.0, 6.0, 5.0, 1.0, 2.0, 1.0, 3.0, 23.0, 6.0, 30.0, 3.0, 4.0, 6.0, 0.0, 0.0, 8.0, 1.0, 1.0, 1.0, 0.0, 0.0, 1.0, 1.0], [2.0, 30.0, 6.0, 9.0, 18.0, 2.0, 30.0, 6.0, 15.0, 1.0, 2.0, 1.0, 3.0, 504.0, 6.0, 30.0, 3.0, 4.0, 6.0, 0.0, 0.0, 0.0, 1.0, 1.0, 1.0, 0.0, 0.0, 1.0, 1.0], [1.0, 36.0, 7.0, 19.0, 3.0, 1.0, 29.0, 6.0, 3.0, 1.0, 3.0, 1.0, 3.0, 1.0, 6.0, 30.0, 9.0, 4.0, 6.0, 0.0, 0.0, 0.0, 1.0, 1.0, 1.0, 4.0, 0.0, 1.0, 1.0], [1.0, 36.0, 7.0, 19.0, 3.0, 1.0, 31.0, 6.0, 4.0, 1.0, 3.0, 1.0, 3.0, 1.0, 6.0, 30.0, 9.0, 4.0, 6.0, 0.0, 0.0, 0.0, 1.0, 1.0, 1.0, 4.0, 0.0, 1.0, 1.0], [1.0, 36.0, 7.0, 3.0, 14.0, 1.0, 36.0, 7.0, 1.0, 1.0, 3.0, 1.0, 3.0, 1.0, 6.0, 30.0, 9.0, 4.0, 6.0, 0.0, 0.0, 0.0, 1.0, 1.0, 1.0, 4.0, 0.0, 1.0, 1.0], [1.0, 53.0, 8.0, 9.0, 4.0, 2.0, 43.0, 7.0, 2.0, 1.0, 1.0, 1.0, 6.0, 0.0, 2.0, 30.0, 3.0, 4.0, 6.0, 0.0, 0.0, 0.0, 1.0, 2.0, 1.0, 0.0, 0.0, 1.0, 1.0]]\n",
      "\n",
      "[[2.00e+00 3.60e+01 7.00e+00 9.00e+00 1.80e+01 2.00e+00 3.60e+01 7.00e+00\n",
      "  1.00e+00 1.00e+00 1.00e+00 1.00e+00 3.00e+00 2.07e+02 6.00e+00 3.00e+01\n",
      "  9.00e+00 4.00e+00 6.00e+00 0.00e+00 0.00e+00 0.00e+00 4.00e+00 1.00e+00\n",
      "  1.00e+00 0.00e+00 0.00e+00 1.00e+00 1.00e+00]\n",
      " [1.00e+00 2.40e+01 5.00e+00 9.00e+00 1.80e+01 1.00e+00 2.40e+01 5.00e+00\n",
      "  5.00e+00 1.00e+00 1.00e+00 1.00e+00 3.00e+00 4.02e+03 1.00e+00 3.00e+01\n",
      "  1.00e+00 4.00e+00 3.00e+00 4.02e+03 0.00e+00 0.00e+00 4.00e+00 1.00e+00\n",
      "  1.00e+00 0.00e+00 0.00e+00 1.00e+00 1.00e+00]\n",
      " [2.00e+00 5.90e+01 9.00e+00 1.10e+01 1.80e+01 1.00e+00 5.50e+01 8.00e+00\n",
      "  7.00e+00 1.00e+00 1.00e+00 1.00e+00 3.00e+00 2.17e+02 6.00e+00 3.00e+01\n",
      "  3.00e+00 2.00e+00 3.00e+00 2.17e+02 0.00e+00 0.00e+00 1.00e+00 1.00e+00\n",
      "  1.00e+00 0.00e+00 0.00e+00 1.00e+00 1.00e+00]\n",
      " [2.00e+00 3.00e+01 6.00e+00 9.00e+00 1.80e+01 2.00e+00 3.00e+01 6.00e+00\n",
      "  1.00e+01 1.00e+00 2.00e+00 1.00e+00 3.00e+00 2.30e+01 6.00e+00 3.00e+01\n",
      "  3.00e+00 4.00e+00 6.00e+00 0.00e+00 0.00e+00 8.00e+00 1.00e+00 1.00e+00\n",
      "  1.00e+00 0.00e+00 0.00e+00 1.00e+00 1.00e+00]\n",
      " [2.00e+00 3.00e+01 6.00e+00 9.00e+00 1.80e+01 1.00e+00 2.70e+01 6.00e+00\n",
      "  5.00e+00 1.00e+00 2.00e+00 1.00e+00 3.00e+00 2.30e+01 6.00e+00 3.00e+01\n",
      "  3.00e+00 4.00e+00 6.00e+00 0.00e+00 0.00e+00 8.00e+00 1.00e+00 1.00e+00\n",
      "  1.00e+00 0.00e+00 0.00e+00 1.00e+00 1.00e+00]\n",
      " [2.00e+00 3.00e+01 6.00e+00 9.00e+00 1.80e+01 2.00e+00 3.00e+01 6.00e+00\n",
      "  1.50e+01 1.00e+00 2.00e+00 1.00e+00 3.00e+00 5.04e+02 6.00e+00 3.00e+01\n",
      "  3.00e+00 4.00e+00 6.00e+00 0.00e+00 0.00e+00 0.00e+00 1.00e+00 1.00e+00\n",
      "  1.00e+00 0.00e+00 0.00e+00 1.00e+00 1.00e+00]\n",
      " [1.00e+00 3.60e+01 7.00e+00 1.90e+01 3.00e+00 1.00e+00 2.90e+01 6.00e+00\n",
      "  3.00e+00 1.00e+00 3.00e+00 1.00e+00 3.00e+00 1.00e+00 6.00e+00 3.00e+01\n",
      "  9.00e+00 4.00e+00 6.00e+00 0.00e+00 0.00e+00 0.00e+00 1.00e+00 1.00e+00\n",
      "  1.00e+00 4.00e+00 0.00e+00 1.00e+00 1.00e+00]\n",
      " [1.00e+00 3.60e+01 7.00e+00 1.90e+01 3.00e+00 1.00e+00 3.10e+01 6.00e+00\n",
      "  4.00e+00 1.00e+00 3.00e+00 1.00e+00 3.00e+00 1.00e+00 6.00e+00 3.00e+01\n",
      "  9.00e+00 4.00e+00 6.00e+00 0.00e+00 0.00e+00 0.00e+00 1.00e+00 1.00e+00\n",
      "  1.00e+00 4.00e+00 0.00e+00 1.00e+00 1.00e+00]\n",
      " [1.00e+00 3.60e+01 7.00e+00 3.00e+00 1.40e+01 1.00e+00 3.60e+01 7.00e+00\n",
      "  1.00e+00 1.00e+00 3.00e+00 1.00e+00 3.00e+00 1.00e+00 6.00e+00 3.00e+01\n",
      "  9.00e+00 4.00e+00 6.00e+00 0.00e+00 0.00e+00 0.00e+00 1.00e+00 1.00e+00\n",
      "  1.00e+00 4.00e+00 0.00e+00 1.00e+00 1.00e+00]\n",
      " [1.00e+00 5.30e+01 8.00e+00 9.00e+00 4.00e+00 2.00e+00 4.30e+01 7.00e+00\n",
      "  2.00e+00 1.00e+00 1.00e+00 1.00e+00 6.00e+00 0.00e+00 2.00e+00 3.00e+01\n",
      "  3.00e+00 4.00e+00 6.00e+00 0.00e+00 0.00e+00 0.00e+00 1.00e+00 2.00e+00\n",
      "  1.00e+00 0.00e+00 0.00e+00 1.00e+00 1.00e+00]]\n",
      "\n",
      "Test data:\n",
      "[3.0, 3.0, 3.0, 3.0, 3.0, 3.0, 3.0, 3.0, 3.0, 3.0]\n",
      "\n",
      "(90559, 29)\n",
      "(38812, 29)\n",
      "90559\n",
      "38812\n"
     ]
    }
   ],
   "source": [
    "# train and test data\n",
    "# can also use \"itemgetter()\", but using simple list comprehension\n",
    "print(\"Train data:\")\n",
    "train_data = [i[:-1] for i in data]\n",
    "# train_data= train_data.astype(str)\n",
    "print(train_data[:10])\n",
    "print()\n",
    "# converting into numpy arrays\n",
    "train_data = np.array(train_data)\n",
    "print(train_data[:10])\n",
    "print()\n",
    "\n",
    "print(\"Test data:\")\n",
    "test_data = [i[-1] for i in data]\n",
    "print(test_data[:10])\n",
    "\n",
    "\n",
    "from sklearn.model_selection import train_test_split\n",
    "# split data into train and test set using 70% for target and 30% for testing\n",
    "x_train, x_test, y_train, y_test = train_test_split(train_data,\n",
    "                                                    test_data, \n",
    "                                                    test_size=0.3,\n",
    "                                                    random_state=0)\n",
    "\n",
    "print() # blank line\n",
    "# display data\n",
    "print(x_train.shape) # shape of array\n",
    "print(x_test.shape) # shape of array\n",
    "print(len(y_train)) # length of list\n",
    "print(len(y_test)) # length of list"
   ]
  },
  {
   "cell_type": "markdown",
   "metadata": {},
   "source": [
    "# Test Harness\n",
    "I will use stratified 10-fold cross validation to estimate model accuracy. This will split my dataset into 10 parts, train on 9 and test on 1 and repeat for all combinations of train-test splits.\n",
    "\n",
    "Note: Stratified means that each fold or split of the dataset will aim to have the same distribution of example by class as exist in the whole training dataset.\n",
    "\n",
    "I am using the metric of ‘accuracy‘ to evaluate models. This is a ratio of the number of correctly predicted instances divided by the total number of instances in the dataset multiplied by 100 to give a percentage (e.g. 95% accurate). We will be using the scoring variable when we run build and evaluate each model next."
   ]
  },
  {
   "cell_type": "markdown",
   "metadata": {},
   "source": [
    "# Builds Models\n",
    "1. Logistic Regression (LR)\n",
    "2. K-Nearest Neighbors (KNN).\n",
    "3. Classification and Regression Trees (CART).\n",
    "4. Gaussian Naive Bayes (NB).\n",
    "5. Support Vector Machines (SVM).\n",
    "6. Ensemble - Random Forest, Bagging Classification\n",
    "7. Neural Network - ANN\n",
    "\n",
    "This is a good mixture of Linear (Logistic Regression) and Non-Linear (KNN, CART, NB, and SVM)."
   ]
  },
  {
   "cell_type": "code",
   "execution_count": 30,
   "metadata": {},
   "outputs": [],
   "source": [
    "# import required modules\n",
    "from sklearn.metrics import confusion_matrix, accuracy_score, classification_report\n",
    "from sklearn.model_selection import cross_val_score, StratifiedKFold\n",
    "from sklearn.linear_model import LogisticRegression\n",
    "from sklearn.neighbors  import KNeighborsClassifier\n",
    "from sklearn.tree import DecisionTreeClassifier\n",
    "from sklearn.ensemble import RandomForestClassifier\n",
    "from sklearn.naive_bayes import GaussianNB\n",
    "from sklearn.svm import SVC\n",
    "import matplotlib.pyplot as plt"
   ]
  },
  {
   "cell_type": "code",
   "execution_count": 31,
   "metadata": {},
   "outputs": [
    {
     "name": "stdout",
     "output_type": "stream",
     "text": [
      "Logistic Regression: 0.848817 (0.000286)\n",
      "KNN: 0.845084 (0.001485)\n",
      "CART: 0.820636 (0.003382)\n",
      "Naive Bayes: 0.778288 (0.005239)\n",
      "Random Forest: 0.883004 (0.001836)\n"
     ]
    }
   ],
   "source": [
    "# create an empty list for all the models\n",
    "models = list()\n",
    "# define models and append into an empty lists\n",
    "models.append(('Logistic Regression', LogisticRegression(solver='liblinear', multi_class='ovr'))) # for multiclass - OneVsRestClassifier\n",
    "models.append(('KNN', KNeighborsClassifier()))\n",
    "models.append(('CART', DecisionTreeClassifier()))\n",
    "models.append(('Naive Bayes', GaussianNB()))\n",
    "models.append(('Random Forest', RandomForestClassifier()))\n",
    "# models.append(('SVM', SVC(gamma='auto')))\n",
    "\n",
    "# evaluate each model\n",
    "# create an empty list for results and model's names\n",
    "result = list()\n",
    "names = list()\n",
    "# iterate over each models - also using cross validation\n",
    "for name, model in models:\n",
    "    k_fold = StratifiedKFold(n_splits=10, random_state=1, shuffle=True)\n",
    "    cross_validation_results = cross_val_score(model, x_train, y_train, cv = k_fold, scoring = 'accuracy')\n",
    "    result.append(cross_validation_results)\n",
    "    names.append(name)\n",
    "    print(\"%s: %f (%f)\" % (name, cross_validation_results.mean(), cross_validation_results.std()))"
   ]
  },
  {
   "cell_type": "code",
   "execution_count": 32,
   "metadata": {},
   "outputs": [
    {
     "data": {
      "image/png": "[encoded data removed]",
      "text/plain": [
       "<Figure size 432x288 with 1 Axes>"
      ]
     },
     "metadata": {
      "needs_background": "light"
     },
     "output_type": "display_data"
    }
   ],
   "source": [
    "# Box plot to compare the algorithms\n",
    "plt.boxplot(result, labels=names)\n",
    "plt.title(\"Algorithm Comparison\")\n",
    "plt.show()"
   ]
  },
  {
   "cell_type": "markdown",
   "metadata": {},
   "source": [
    "# Make Predictions\n",
    "Fitting model on the entire training dataset and making prediction on the validation dataset after choosing the best model. This section contains the predictions by:\n",
    "1. entire validation set\n",
    "2. single data Instances (for further study)"
   ]
  },
  {
   "cell_type": "code",
   "execution_count": 33,
   "metadata": {},
   "outputs": [
    {
     "name": "stdout",
     "output_type": "stream",
     "text": [
      "[3. 3. 3. 3. 3. 3. 3. 3. 3. 1.]\n"
     ]
    }
   ],
   "source": [
    "# So the best model is Random Forest Classifier so I will predicting using Random Forest classification\n",
    "model = RandomForestClassifier().fit(x_train, y_train)\n",
    "predictions = model.predict(x_test)\n",
    "print(predictions[:10])"
   ]
  },
  {
   "cell_type": "markdown",
   "metadata": {},
   "source": [
    "# Evaluate Predictions\n",
    "I can evaluate the predictions by comparing them to the expected results in the validation set, then calcuating the classification accuracy as well as a confusion matrix."
   ]
  },
  {
   "cell_type": "code",
   "execution_count": 35,
   "metadata": {},
   "outputs": [
    {
     "name": "stdout",
     "output_type": "stream",
     "text": [
      "Accuracy Score:  0.8845202514686179\n",
      "\n",
      "Confusion Matrix:\n",
      "  [[   99    15   210]\n",
      " [    0  1463  4102]\n",
      " [    0   155 32768]]\n"
     ]
    },
    {
     "data": {
      "image/png": "[encoded data removed]",
      "text/plain": [
       "<Figure size 432x288 with 2 Axes>"
      ]
     },
     "metadata": {
      "needs_background": "light"
     },
     "output_type": "display_data"
    },
    {
     "name": "stdout",
     "output_type": "stream",
     "text": [
      "\n",
      "Classification report:\n",
      "                precision    recall  f1-score   support\n",
      "\n",
      "         1.0       1.00      0.31      0.47       324\n",
      "         2.0       0.90      0.26      0.41      5565\n",
      "         3.0       0.88      1.00      0.94     32923\n",
      "\n",
      "    accuracy                           0.88     38812\n",
      "   macro avg       0.93      0.52      0.60     38812\n",
      "weighted avg       0.89      0.88      0.86     38812\n",
      "\n"
     ]
    }
   ],
   "source": [
    "print(\"Accuracy Score: \", accuracy_score(y_test, predictions))\n",
    "print() # blank line\n",
    "\n",
    "print(\"Confusion Matrix:\\n \", confusion_matrix(y_test, predictions))\n",
    "# plotting the confusion matrix\n",
    "from sklearn.metrics import plot_confusion_matrix\n",
    "plot_confusion_matrix(model, x_test, y_test)\n",
    "plt.show()\n",
    "\n",
    "print() # blank line\n",
    "print(\"Classification report:\\n \", classification_report(y_test, predictions))"
   ]
  },
  {
   "cell_type": "code",
   "execution_count": null,
   "metadata": {},
   "outputs": [],
   "source": []
  },
  {
   "cell_type": "markdown",
   "metadata": {},
   "source": [
    "# See if the statistic comparison of relativity between features and automatic feature selection/extraction helps to increase the model performance\n",
    "Feature Selection is a process where we automatically select those features in our data that contribute most to the prediction variable or output in which we are interested. Having irrelevant features in our data can decrease the accuracy of many models, expecially linear algorithms like Linear and logistic regression. Below are the features selection's approaches that we will br focusing on. \n",
    "1. Chi-Squared Statistics\n",
    "2. Mutual Information Statistics\n",
    "3. Recursive Feature Elimination (RFE) & Automatically Feature Selection"
   ]
  },
  {
   "cell_type": "markdown",
   "metadata": {},
   "source": [
    "# Chi-Squared feature selection\n",
    "Chi-Squared test for independence between categorical variables and it assumes (the null hypothesis) that the observed frequencies for a categorical variable match the expected frequencies for the categorical variable."
   ]
  },
  {
   "cell_type": "code",
   "execution_count": 36,
   "metadata": {},
   "outputs": [
    {
     "name": "stdout",
     "output_type": "stream",
     "text": [
      "----- Chi-Squared Feature Selection -------\n",
      "Feature 0: 108.908494\n",
      "Feature 1: 3985.591309\n",
      "Feature 2: 237.181252\n",
      "Feature 3: 124.015516\n",
      "Feature 4: 1461.472689\n",
      "Feature 5: 48.575443\n",
      "Feature 6: 1195.270606\n",
      "Feature 7: 65.942263\n",
      "Feature 8: 57.743647\n",
      "Feature 9: 5711.136583\n",
      "Feature 10: 21.032180\n",
      "Feature 11: 1122.546647\n",
      "Feature 12: 20.677878\n",
      "Feature 13: 2011.546714\n",
      "Feature 14: 73.079628\n",
      "Feature 15: 4095.464597\n",
      "Feature 16: 110.564502\n",
      "Feature 17: 33.971927\n",
      "Feature 18: 42.392026\n",
      "Feature 19: 34755.369141\n",
      "Feature 20: 29.416772\n",
      "Feature 21: 405.167192\n",
      "Feature 22: 103.295817\n",
      "Feature 23: 30.375789\n",
      "Feature 24: 0.287367\n",
      "Feature 25: 164.103113\n",
      "Feature 26: 15.427636\n",
      "Feature 27: 145.376549\n",
      "Feature 28: 46.362240\n",
      "\n"
     ]
    },
    {
     "data": {
      "image/png": "[encoded data removed]",
      "text/plain": [
       "<Figure size 432x288 with 1 Axes>"
      ]
     },
     "metadata": {
      "needs_background": "light"
     },
     "output_type": "display_data"
    }
   ],
   "source": [
    "from sklearn.feature_selection import SelectKBest, chi2\n",
    "# Chi-Squared Feature Selection\n",
    "print(\"----- Chi-Squared Feature Selection -------\")\n",
    "def select_features_chi(x_train, y_train, x_test):\n",
    "    feature_selection = SelectKBest(score_func=chi2, k='all') ## selecting top 10\n",
    "    feature_selection.fit(x_train, y_train)\n",
    "    X_train_fs = feature_selection.transform(x_train)\n",
    "    X_test_fs = feature_selection.transform(x_test)\n",
    "    return X_train_fs, X_test_fs, feature_selection\n",
    "\n",
    "# calling select_features_chi() function\n",
    "X_train_fs, X_test_fs, feature_selection = select_features_chi(x_train, y_train, x_test)\n",
    "# what are the scores for the feature\n",
    "for i in range(len(feature_selection.scores_)):\n",
    "    print(\"Feature %d: %f\" % (i, feature_selection.scores_[i]))\n",
    "\n",
    "print() # blank line\n",
    "plt.bar([i for i in range(len(feature_selection.scores_))], feature_selection.scores_)\n",
    "plt.show()"
   ]
  },
  {
   "cell_type": "markdown",
   "metadata": {},
   "source": [
    "# Mutual Information Selection Feature Selection\n",
    "Used for feature selection, by evaluating the gain of each variable in the context of the target variable."
   ]
  },
  {
   "cell_type": "code",
   "execution_count": 37,
   "metadata": {},
   "outputs": [
    {
     "name": "stdout",
     "output_type": "stream",
     "text": [
      "------ Mutual Information Feature Selection --------- \n",
      "Feature 0: 0.009580\n",
      "Feature 1: 0.004324\n",
      "Feature 2: 0.007757\n",
      "Feature 3: 0.019258\n",
      "Feature 4: 0.012654\n",
      "Feature 5: 0.011049\n",
      "Feature 6: 0.003802\n",
      "Feature 7: 0.003981\n",
      "Feature 8: 0.002618\n",
      "Feature 9: 0.009692\n",
      "Feature 10: 0.014339\n",
      "Feature 11: 0.010741\n",
      "Feature 12: 0.005901\n",
      "Feature 13: 0.038522\n",
      "Feature 14: 0.011637\n",
      "Feature 15: 0.010798\n",
      "Feature 16: 0.006664\n",
      "Feature 17: 0.012694\n",
      "Feature 18: 0.010376\n",
      "Feature 19: 0.022135\n",
      "Feature 20: 0.000000\n",
      "Feature 21: 0.001497\n",
      "Feature 22: 0.007804\n",
      "Feature 23: 0.007637\n",
      "Feature 24: 0.008138\n",
      "Feature 25: 0.000000\n",
      "Feature 26: 0.001662\n",
      "Feature 27: 0.014442\n",
      "Feature 28: 0.012072\n",
      "\n"
     ]
    },
    {
     "data": {
      "image/png": "[encoded data removed]",
      "text/plain": [
       "<Figure size 432x288 with 1 Axes>"
      ]
     },
     "metadata": {
      "needs_background": "light"
     },
     "output_type": "display_data"
    }
   ],
   "source": [
    "from sklearn.feature_selection import SelectKBest, mutual_info_classif\n",
    "# Mutual Information Feature Selection\n",
    "print(\"------ Mutual Information Feature Selection --------- \")\n",
    "# define the mutual inforamtion feature selection function\n",
    "def feature_selection_mutualinfo(x_train, y_train, x_test):\n",
    "    feature_selection_mi = SelectKBest(score_func=mutual_info_classif, k='all') ## selecting top 10\n",
    "    feature_selection_mi.fit(x_train, y_train)\n",
    "    X_train_fs_mi = feature_selection_mi.transform(x_train)\n",
    "    X_test_fs_mi = feature_selection_mi.transform(x_test)\n",
    "    return X_train_fs_mi, X_test_fs_mi, feature_selection_mi\n",
    "\n",
    "# calling select_features_chi() function\n",
    "X_train_fs_mi, X_test_fs_mi, feature_selection_mi = feature_selection_mutualinfo(x_train, y_train, x_test)\n",
    "# what are the scores for the feature\n",
    "for i in range(len(feature_selection_mi.scores_)):\n",
    "    print(\"Feature %d: %f\" % (i, feature_selection_mi.scores_[i]))\n",
    "\n",
    "\n",
    "print() # blank line\n",
    "\n",
    "# plot the scores\n",
    "plt.bar([i for i in range(len(feature_selection_mi.scores_))], feature_selection_mi.scores_)\n",
    "plt.show()"
   ]
  },
  {
   "cell_type": "markdown",
   "metadata": {},
   "source": [
    "# Fit models - Random forest Classifier (most dominent one)\n",
    "- with all the features\n",
    "- with top 10 features (Chi-Squared and Mutual Information feature selection)"
   ]
  },
  {
   "cell_type": "code",
   "execution_count": 38,
   "metadata": {},
   "outputs": [
    {
     "name": "stdout",
     "output_type": "stream",
     "text": [
      "Accuracy using all features: 88.44\n",
      "Accuracy after using Chi-Sqaured feature's selection of Top15: 87.91\n",
      "Accuracy after using Mutual Information statistic feature's selection Top15: 88.99\n"
     ]
    }
   ],
   "source": [
    "# running model without feature selection\n",
    "model = RandomForestClassifier()\n",
    "model.fit(x_train, y_train)\n",
    "# evaluate the model\n",
    "yhat = model.predict(x_test) # y_prediction\n",
    "# evaluate prediction \n",
    "accuracy = accuracy_score(y_test, yhat)\n",
    "# display accuracy\n",
    "print(\"Accuracy using all features: %.2f\" % (accuracy*100))\n",
    "\n",
    "# fit modoel - using chi2 feature selection - using top 10 features\n",
    "def chi_select_features_top_10(x_train, y_train, x_test):\n",
    "    chi_fs = SelectKBest(score_func=chi2, k=15)\n",
    "    chi_fs.fit(x_train, y_train)\n",
    "    x_chi_train = chi_fs.transform(x_train)\n",
    "    x_chi_test = chi_fs.transform(x_test)\n",
    "    return x_chi_train, x_chi_test\n",
    "\n",
    "# feature selection - Chi-Squared top 10 feature\n",
    "x_chi_train, x_chi_test = chi_select_features_top_10(x_train, y_train, x_test)\n",
    "# print(\"Selected columns:\\n\", x_chi_train[0:5])\n",
    "# fit model\n",
    "model = RandomForestClassifier()\n",
    "model.fit(x_chi_train, y_train)\n",
    "# evaluate the model\n",
    "yhat = model.predict(x_chi_test) # y_prediction\n",
    "# evaluate prediction \n",
    "accuracy = accuracy_score(y_test, yhat)\n",
    "# display accuracy\n",
    "print(\"Accuracy after using Chi-Sqaured feature's selection of Top15: %.2f\" % (accuracy*100))\n",
    "\n",
    "\n",
    "# fit modoel - using chi2 feature selection - using top 10 features\n",
    "def mis_select_features_top_10(x_train, y_train, x_test):\n",
    "    mis_fs = SelectKBest(score_func=mutual_info_classif, k=15)\n",
    "    mis_fs.fit(x_train, y_train)\n",
    "    x_mis_train = mis_fs.transform(x_train)\n",
    "    x_mis_test = mis_fs.transform(x_test)\n",
    "    return x_mis_train, x_mis_test\n",
    "\n",
    "# feature selection - Chi-Squared top 10 feature\n",
    "x_mis_train, x_mis_test = mis_select_features_top_10(x_train, y_train, x_test)\n",
    "# print(\"Selected columns:\\n\", x_mis_train[0:5])\n",
    "# fit modoel - using mutual information gain\n",
    "model = RandomForestClassifier()\n",
    "model.fit(x_mis_train, y_train)\n",
    "# evaluate the model\n",
    "yhat = model.predict(x_mis_test) # y_prediction\n",
    "# evaluate prediction \n",
    "accuracy = accuracy_score(y_test, yhat)\n",
    "# display accuracy\n",
    "print(\"Accuracy after using Mutual Information statistic feature's selection Top15: %.2f\" % (accuracy*100))"
   ]
  },
  {
   "cell_type": "raw",
   "metadata": {},
   "source": [
    "Performance:\n",
    "    - Accuracy decreases after Chi-Sqaured feature selection from 88.44% from 87.91%\n",
    "    - Accuracy increases after Mutual Information Statistic Feature selection from 88.44% to 88.99%. Not a measure change but it does have an effect on accuracy. \n",
    "    \n",
    "Note: the result is after running the example once, we can try to run few more times and see if there is any change in the model performance."
   ]
  },
  {
   "cell_type": "markdown",
   "metadata": {},
   "source": [
    "# RFE feature selection and Automatic Feature selection"
   ]
  },
  {
   "cell_type": "code",
   "execution_count": null,
   "metadata": {},
   "outputs": [],
   "source": []
  },
  {
   "cell_type": "code",
   "execution_count": null,
   "metadata": {},
   "outputs": [],
   "source": []
  },
  {
   "cell_type": "code",
   "execution_count": null,
   "metadata": {},
   "outputs": [],
   "source": []
  },
  {
   "cell_type": "code",
   "execution_count": null,
   "metadata": {},
   "outputs": [],
   "source": []
  },
  {
   "cell_type": "code",
   "execution_count": null,
   "metadata": {},
   "outputs": [],
   "source": []
  },
  {
   "cell_type": "code",
   "execution_count": null,
   "metadata": {},
   "outputs": [],
   "source": []
  },
  {
   "cell_type": "code",
   "execution_count": null,
   "metadata": {},
   "outputs": [],
   "source": []
  },
  {
   "cell_type": "code",
   "execution_count": null,
   "metadata": {},
   "outputs": [],
   "source": []
  },
  {
   "cell_type": "code",
   "execution_count": null,
   "metadata": {},
   "outputs": [],
   "source": []
  },
  {
   "cell_type": "code",
   "execution_count": null,
   "metadata": {},
   "outputs": [],
   "source": []
  }
 ],
 "metadata": {
  "kernelspec": {
   "display_name": "Python 3",
   "language": "python",
   "name": "python3"
  },
  "language_info": {
   "codemirror_mode": {
    "name": "ipython",
    "version": 3
   },
   "file_extension": ".py",
   "mimetype": "text/x-python",
   "name": "python",
   "nbconvert_exporter": "python",
   "pygments_lexer": "ipython3",
   "version": "3.7.6"
  }
 },
 "nbformat": 4,
 "nbformat_minor": 4
}
